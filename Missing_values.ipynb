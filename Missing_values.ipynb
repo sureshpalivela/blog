{
  "nbformat": 4,
  "nbformat_minor": 0,
  "metadata": {
    "colab": {
      "provenance": [],
      "mount_file_id": "1bUbudLrFQ5cQfhQmscRBtkpKxmO-dSwY",
      "authorship_tag": "ABX9TyNwcB8Dc8herrbKV3ofvSWE",
      "include_colab_link": true
    },
    "kernelspec": {
      "name": "python3",
      "display_name": "Python 3"
    },
    "language_info": {
      "name": "python"
    }
  },
  "cells": [
    {
      "cell_type": "markdown",
      "metadata": {
        "id": "view-in-github",
        "colab_type": "text"
      },
      "source": [
        "<a href=\"https://colab.research.google.com/github/sureshpalivela/blog/blob/main/Missing_values.ipynb\" target=\"_parent\"><img src=\"https://colab.research.google.com/assets/colab-badge.svg\" alt=\"Open In Colab\"/></a>"
      ]
    },
    {
      "cell_type": "code",
      "execution_count": null,
      "metadata": {
        "id": "sOiyRFRPK-oy"
      },
      "outputs": [],
      "source": []
    },
    {
      "cell_type": "markdown",
      "source": [
        "# New Section"
      ],
      "metadata": {
        "id": "m7kSGjRQQJxl"
      }
    },
    {
      "cell_type": "code",
      "source": [
        "from google.colab import drive\n",
        "drive.mount('/content/drive')"
      ],
      "metadata": {
        "colab": {
          "base_uri": "https://localhost:8080/"
        },
        "id": "atXw-BCPQTAA",
        "outputId": "962b9143-9d38-43ff-a149-4553ff768b24"
      },
      "execution_count": 1,
      "outputs": [
        {
          "output_type": "stream",
          "name": "stdout",
          "text": [
            "Drive already mounted at /content/drive; to attempt to forcibly remount, call drive.mount(\"/content/drive\", force_remount=True).\n"
          ]
        }
      ]
    },
    {
      "cell_type": "code",
      "source": [
        "import numpy as np\n",
        "import pandas as pd"
      ],
      "metadata": {
        "id": "M-4HtCVyQ5dj"
      },
      "execution_count": 3,
      "outputs": []
    },
    {
      "cell_type": "code",
      "source": [
        "a=pd.read_csv(\"/content/drive/MyDrive/boston.csv\")"
      ],
      "metadata": {
        "id": "GM9_KpBURQfw"
      },
      "execution_count": 7,
      "outputs": []
    },
    {
      "cell_type": "code",
      "source": [
        "miss_values = a.isnull().sum()\n",
        "print(miss_values)"
      ],
      "metadata": {
        "colab": {
          "base_uri": "https://localhost:8080/"
        },
        "id": "1XfrEPQXTIm3",
        "outputId": "115ee6d9-1068-4d19-dab9-2fcd66f19876"
      },
      "execution_count": 9,
      "outputs": [
        {
          "output_type": "stream",
          "name": "stdout",
          "text": [
            "crim       0\n",
            "zn         0\n",
            "indus      0\n",
            "chas       0\n",
            "nox        0\n",
            "rm         0\n",
            "age        0\n",
            "dis        0\n",
            "rad        0\n",
            "tax        0\n",
            "ptratio    0\n",
            "b          0\n",
            "lstat      0\n",
            "medv       0\n",
            "dtype: int64\n"
          ]
        }
      ]
    },
    {
      "cell_type": "code",
      "source": [],
      "metadata": {
        "id": "4r0YE6ZNVB4P"
      },
      "execution_count": null,
      "outputs": []
    }
  ]
}